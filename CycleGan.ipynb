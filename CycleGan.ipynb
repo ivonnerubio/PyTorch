{
  "nbformat": 4,
  "nbformat_minor": 0,
  "metadata": {
    "colab": {
      "name": "Untitled2.ipynb",
      "provenance": [],
      "authorship_tag": "ABX9TyNFDN4gShDS0wA2Ybup+hin",
      "include_colab_link": true
    },
    "kernelspec": {
      "name": "python3",
      "display_name": "Python 3"
    },
    "language_info": {
      "name": "python"
    }
  },
  "cells": [
    {
      "cell_type": "markdown",
      "metadata": {
        "id": "view-in-github",
        "colab_type": "text"
      },
      "source": [
        "<a href=\"https://colab.research.google.com/github/ivonnerubio/PyTorch/blob/main/CycleGan.ipynb\" target=\"_parent\"><img src=\"https://colab.research.google.com/assets/colab-badge.svg\" alt=\"Open In Colab\"/></a>"
      ]
    },
    {
      "cell_type": "code",
      "execution_count": null,
      "metadata": {
        "id": "hW8FjuKdshum"
      },
      "outputs": [],
      "source": [
        "import torch\n",
        "import torch.nn as nn\n",
        "\n",
        "class ResNetBlock(nn.Module): # <1>\n",
        "\n",
        "    def __init__(self, dim):\n",
        "        super(ResNetBlock, self).__init__()\n",
        "        self.conv_block = self.build_conv_block(dim)\n",
        "\n",
        "    def build_conv_block(self, dim):\n",
        "        conv_block = []\n",
        "\n",
        "        conv_block += [nn.ReflectionPad2d(1)]\n",
        "\n",
        "        conv_block += [nn.Conv2d(dim, dim, kernel_size=3, padding=0, bias=True),\n",
        "                       nn.InstanceNorm2d(dim),\n",
        "                       nn.ReLU(True)]\n",
        "\n",
        "        conv_block += [nn.ReflectionPad2d(1)]\n",
        "\n",
        "        conv_block += [nn.Conv2d(dim, dim, kernel_size=3, padding=0, bias=True),\n",
        "                       nn.InstanceNorm2d(dim)]\n",
        "\n",
        "        return nn.Sequential(*conv_block)\n",
        "\n",
        "    def forward(self, x):\n",
        "        out = x + self.conv_block(x) # <2>\n",
        "        return out\n",
        "\n",
        "\n",
        "class ResNetGenerator(nn.Module):\n",
        "\n",
        "    def __init__(self, input_nc=3, output_nc=3, ngf=64, n_blocks=9): # <3> \n",
        "\n",
        "        assert(n_blocks >= 0)\n",
        "        super(ResNetGenerator, self).__init__()\n",
        "\n",
        "        self.input_nc = input_nc\n",
        "        self.output_nc = output_nc\n",
        "        self.ngf = ngf\n",
        "\n",
        "        model = [nn.ReflectionPad2d(3),\n",
        "                 nn.Conv2d(input_nc, ngf, kernel_size=7, padding=0, bias=True),\n",
        "                 nn.InstanceNorm2d(ngf),\n",
        "                 nn.ReLU(True)]\n",
        "\n",
        "        n_downsampling = 2\n",
        "        for i in range(n_downsampling):\n",
        "            mult = 2**i\n",
        "            model += [nn.Conv2d(ngf * mult, ngf * mult * 2, kernel_size=3,\n",
        "                                stride=2, padding=1, bias=True),\n",
        "                      nn.InstanceNorm2d(ngf * mult * 2),\n",
        "                      nn.ReLU(True)]\n",
        "\n",
        "        mult = 2**n_downsampling\n",
        "        for i in range(n_blocks):\n",
        "            model += [ResNetBlock(ngf * mult)]\n",
        "\n",
        "        for i in range(n_downsampling):\n",
        "            mult = 2**(n_downsampling - i)\n",
        "            model += [nn.ConvTranspose2d(ngf * mult, int(ngf * mult / 2),\n",
        "                                         kernel_size=3, stride=2,\n",
        "                                         padding=1, output_padding=1,\n",
        "                                         bias=True),\n",
        "                      nn.InstanceNorm2d(int(ngf * mult / 2)),\n",
        "                      nn.ReLU(True)]\n",
        "\n",
        "        model += [nn.ReflectionPad2d(3)]\n",
        "        model += [nn.Conv2d(ngf, output_nc, kernel_size=7, padding=0)]\n",
        "        model += [nn.Tanh()]\n",
        "\n",
        "        self.model = nn.Sequential(*model)\n",
        "\n",
        "    def forward(self, input): # <3>\n",
        "        return self.model(input)"
      ]
    },
    {
      "cell_type": "code",
      "source": [
        "netG = ResNetGenerator()"
      ],
      "metadata": {
        "id": "1c4ADnZestYZ"
      },
      "execution_count": null,
      "outputs": []
    },
    {
      "cell_type": "code",
      "source": [
        "model_path = '/content/horse2zebra_0.4.0.pth'"
      ],
      "metadata": {
        "id": "bphovWdIsyvo"
      },
      "execution_count": 5,
      "outputs": []
    },
    {
      "cell_type": "code",
      "source": [
        "model_data = torch.load(model_path)"
      ],
      "metadata": {
        "id": "3AeXFDDTu-sM"
      },
      "execution_count": 6,
      "outputs": []
    },
    {
      "cell_type": "code",
      "source": [
        "netG.load_state_dict(model_data)"
      ],
      "metadata": {
        "colab": {
          "base_uri": "https://localhost:8080/"
        },
        "id": "NcltqhZ1vn_o",
        "outputId": "32a496b2-da38-4912-9a31-d5c53474f35d"
      },
      "execution_count": 7,
      "outputs": [
        {
          "output_type": "execute_result",
          "data": {
            "text/plain": [
              "<All keys matched successfully>"
            ]
          },
          "metadata": {},
          "execution_count": 7
        }
      ]
    },
    {
      "cell_type": "code",
      "source": [
        "netG.eval()"
      ],
      "metadata": {
        "colab": {
          "base_uri": "https://localhost:8080/"
        },
        "id": "PVODc_FtvrnJ",
        "outputId": "b8415697-3a16-4059-eb3b-b0d6fa2f031e"
      },
      "execution_count": 8,
      "outputs": [
        {
          "output_type": "execute_result",
          "data": {
            "text/plain": [
              "ResNetGenerator(\n",
              "  (model): Sequential(\n",
              "    (0): ReflectionPad2d((3, 3, 3, 3))\n",
              "    (1): Conv2d(3, 64, kernel_size=(7, 7), stride=(1, 1))\n",
              "    (2): InstanceNorm2d(64, eps=1e-05, momentum=0.1, affine=False, track_running_stats=False)\n",
              "    (3): ReLU(inplace=True)\n",
              "    (4): Conv2d(64, 128, kernel_size=(3, 3), stride=(2, 2), padding=(1, 1))\n",
              "    (5): InstanceNorm2d(128, eps=1e-05, momentum=0.1, affine=False, track_running_stats=False)\n",
              "    (6): ReLU(inplace=True)\n",
              "    (7): Conv2d(128, 256, kernel_size=(3, 3), stride=(2, 2), padding=(1, 1))\n",
              "    (8): InstanceNorm2d(256, eps=1e-05, momentum=0.1, affine=False, track_running_stats=False)\n",
              "    (9): ReLU(inplace=True)\n",
              "    (10): ResNetBlock(\n",
              "      (conv_block): Sequential(\n",
              "        (0): ReflectionPad2d((1, 1, 1, 1))\n",
              "        (1): Conv2d(256, 256, kernel_size=(3, 3), stride=(1, 1))\n",
              "        (2): InstanceNorm2d(256, eps=1e-05, momentum=0.1, affine=False, track_running_stats=False)\n",
              "        (3): ReLU(inplace=True)\n",
              "        (4): ReflectionPad2d((1, 1, 1, 1))\n",
              "        (5): Conv2d(256, 256, kernel_size=(3, 3), stride=(1, 1))\n",
              "        (6): InstanceNorm2d(256, eps=1e-05, momentum=0.1, affine=False, track_running_stats=False)\n",
              "      )\n",
              "    )\n",
              "    (11): ResNetBlock(\n",
              "      (conv_block): Sequential(\n",
              "        (0): ReflectionPad2d((1, 1, 1, 1))\n",
              "        (1): Conv2d(256, 256, kernel_size=(3, 3), stride=(1, 1))\n",
              "        (2): InstanceNorm2d(256, eps=1e-05, momentum=0.1, affine=False, track_running_stats=False)\n",
              "        (3): ReLU(inplace=True)\n",
              "        (4): ReflectionPad2d((1, 1, 1, 1))\n",
              "        (5): Conv2d(256, 256, kernel_size=(3, 3), stride=(1, 1))\n",
              "        (6): InstanceNorm2d(256, eps=1e-05, momentum=0.1, affine=False, track_running_stats=False)\n",
              "      )\n",
              "    )\n",
              "    (12): ResNetBlock(\n",
              "      (conv_block): Sequential(\n",
              "        (0): ReflectionPad2d((1, 1, 1, 1))\n",
              "        (1): Conv2d(256, 256, kernel_size=(3, 3), stride=(1, 1))\n",
              "        (2): InstanceNorm2d(256, eps=1e-05, momentum=0.1, affine=False, track_running_stats=False)\n",
              "        (3): ReLU(inplace=True)\n",
              "        (4): ReflectionPad2d((1, 1, 1, 1))\n",
              "        (5): Conv2d(256, 256, kernel_size=(3, 3), stride=(1, 1))\n",
              "        (6): InstanceNorm2d(256, eps=1e-05, momentum=0.1, affine=False, track_running_stats=False)\n",
              "      )\n",
              "    )\n",
              "    (13): ResNetBlock(\n",
              "      (conv_block): Sequential(\n",
              "        (0): ReflectionPad2d((1, 1, 1, 1))\n",
              "        (1): Conv2d(256, 256, kernel_size=(3, 3), stride=(1, 1))\n",
              "        (2): InstanceNorm2d(256, eps=1e-05, momentum=0.1, affine=False, track_running_stats=False)\n",
              "        (3): ReLU(inplace=True)\n",
              "        (4): ReflectionPad2d((1, 1, 1, 1))\n",
              "        (5): Conv2d(256, 256, kernel_size=(3, 3), stride=(1, 1))\n",
              "        (6): InstanceNorm2d(256, eps=1e-05, momentum=0.1, affine=False, track_running_stats=False)\n",
              "      )\n",
              "    )\n",
              "    (14): ResNetBlock(\n",
              "      (conv_block): Sequential(\n",
              "        (0): ReflectionPad2d((1, 1, 1, 1))\n",
              "        (1): Conv2d(256, 256, kernel_size=(3, 3), stride=(1, 1))\n",
              "        (2): InstanceNorm2d(256, eps=1e-05, momentum=0.1, affine=False, track_running_stats=False)\n",
              "        (3): ReLU(inplace=True)\n",
              "        (4): ReflectionPad2d((1, 1, 1, 1))\n",
              "        (5): Conv2d(256, 256, kernel_size=(3, 3), stride=(1, 1))\n",
              "        (6): InstanceNorm2d(256, eps=1e-05, momentum=0.1, affine=False, track_running_stats=False)\n",
              "      )\n",
              "    )\n",
              "    (15): ResNetBlock(\n",
              "      (conv_block): Sequential(\n",
              "        (0): ReflectionPad2d((1, 1, 1, 1))\n",
              "        (1): Conv2d(256, 256, kernel_size=(3, 3), stride=(1, 1))\n",
              "        (2): InstanceNorm2d(256, eps=1e-05, momentum=0.1, affine=False, track_running_stats=False)\n",
              "        (3): ReLU(inplace=True)\n",
              "        (4): ReflectionPad2d((1, 1, 1, 1))\n",
              "        (5): Conv2d(256, 256, kernel_size=(3, 3), stride=(1, 1))\n",
              "        (6): InstanceNorm2d(256, eps=1e-05, momentum=0.1, affine=False, track_running_stats=False)\n",
              "      )\n",
              "    )\n",
              "    (16): ResNetBlock(\n",
              "      (conv_block): Sequential(\n",
              "        (0): ReflectionPad2d((1, 1, 1, 1))\n",
              "        (1): Conv2d(256, 256, kernel_size=(3, 3), stride=(1, 1))\n",
              "        (2): InstanceNorm2d(256, eps=1e-05, momentum=0.1, affine=False, track_running_stats=False)\n",
              "        (3): ReLU(inplace=True)\n",
              "        (4): ReflectionPad2d((1, 1, 1, 1))\n",
              "        (5): Conv2d(256, 256, kernel_size=(3, 3), stride=(1, 1))\n",
              "        (6): InstanceNorm2d(256, eps=1e-05, momentum=0.1, affine=False, track_running_stats=False)\n",
              "      )\n",
              "    )\n",
              "    (17): ResNetBlock(\n",
              "      (conv_block): Sequential(\n",
              "        (0): ReflectionPad2d((1, 1, 1, 1))\n",
              "        (1): Conv2d(256, 256, kernel_size=(3, 3), stride=(1, 1))\n",
              "        (2): InstanceNorm2d(256, eps=1e-05, momentum=0.1, affine=False, track_running_stats=False)\n",
              "        (3): ReLU(inplace=True)\n",
              "        (4): ReflectionPad2d((1, 1, 1, 1))\n",
              "        (5): Conv2d(256, 256, kernel_size=(3, 3), stride=(1, 1))\n",
              "        (6): InstanceNorm2d(256, eps=1e-05, momentum=0.1, affine=False, track_running_stats=False)\n",
              "      )\n",
              "    )\n",
              "    (18): ResNetBlock(\n",
              "      (conv_block): Sequential(\n",
              "        (0): ReflectionPad2d((1, 1, 1, 1))\n",
              "        (1): Conv2d(256, 256, kernel_size=(3, 3), stride=(1, 1))\n",
              "        (2): InstanceNorm2d(256, eps=1e-05, momentum=0.1, affine=False, track_running_stats=False)\n",
              "        (3): ReLU(inplace=True)\n",
              "        (4): ReflectionPad2d((1, 1, 1, 1))\n",
              "        (5): Conv2d(256, 256, kernel_size=(3, 3), stride=(1, 1))\n",
              "        (6): InstanceNorm2d(256, eps=1e-05, momentum=0.1, affine=False, track_running_stats=False)\n",
              "      )\n",
              "    )\n",
              "    (19): ConvTranspose2d(256, 128, kernel_size=(3, 3), stride=(2, 2), padding=(1, 1), output_padding=(1, 1))\n",
              "    (20): InstanceNorm2d(128, eps=1e-05, momentum=0.1, affine=False, track_running_stats=False)\n",
              "    (21): ReLU(inplace=True)\n",
              "    (22): ConvTranspose2d(128, 64, kernel_size=(3, 3), stride=(2, 2), padding=(1, 1), output_padding=(1, 1))\n",
              "    (23): InstanceNorm2d(64, eps=1e-05, momentum=0.1, affine=False, track_running_stats=False)\n",
              "    (24): ReLU(inplace=True)\n",
              "    (25): ReflectionPad2d((3, 3, 3, 3))\n",
              "    (26): Conv2d(64, 3, kernel_size=(7, 7), stride=(1, 1))\n",
              "    (27): Tanh()\n",
              "  )\n",
              ")"
            ]
          },
          "metadata": {},
          "execution_count": 8
        }
      ]
    }
  ]
}